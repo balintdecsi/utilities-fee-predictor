{
 "cells": [
  {
   "cell_type": "code",
   "execution_count": 1,
   "metadata": {},
   "outputs": [],
   "source": [
    "from sklearn import linear_model\n",
    "import numpy as np"
   ]
  },
  {
   "cell_type": "code",
   "execution_count": 2,
   "metadata": {},
   "outputs": [],
   "source": [
    "lin_reg_gas = linear_model.LinearRegression(positive=True)\n",
    "lin_reg_water = linear_model.LinearRegression(positive=True)\n",
    "lin_reg_electricity = linear_model.LinearRegression(positive=True)"
   ]
  },
  {
   "cell_type": "code",
   "execution_count": 3,
   "metadata": {},
   "outputs": [],
   "source": [
    "# From March 2021 to Nov 2022\n",
    "x_gas = np.array([70, 48, 10, 13, 13, 9, 8, 20, 107, 174, 230, 174, 165, 83, 4, 5, 4, 5, 16, 16, 71, 125, 137, 115, 84, 54, 14, 0, 0, 6, 16, 29, 132])\n",
    "y_gas = [8110, 5857, 1981, 2294, 2291, 1887, 1783, 3007, 11847, 18626, 24417, 18829, 17933, 9022, 1325, 1572, 1295, 1486, 1972, 3268, 8259, 13709, 14956, 12743, 8654, 6434, 4073, 0, 0, 1867, 2620, 3959, 16642]\n",
    "\n",
    "# From March 2021 to Oct 2022\n",
    "x_water = np.array([7, 7, 6, 8, 8, 8, 8, 5, 6, 7, 5, 5, 6, 4, 3, 3, 2, 8, 6, 8, 10, 4, 9, 10, 6, 9, 8, 3, 10, 7, 12, 12])\n",
    "y_water = [4371, 4371, 3746, 4995, 5302, 4639, 5010, 4071, 3757, 4384, 3170, 3170, 3804, 2536, 1969, 1969, 1268, 5072, 3669, 5072, 6225, 2613, 10190, 11322, 3737, 5605, 6794, 2548, 6201, 4341, 7372, 7373]\n",
    "\n",
    "#From March 2021 to Nov 2022\n",
    "x_electricity = np.array([235, 207, 172, 149, 157, 175, 182, 121, 419, 683, 504, 342, 304, 162, 115, 101, 82, 131, 112, 78, 124, 54, 112, 152, 105, 82, 79, 89, 231, 109, 140, 203])\n",
    "y_electricity = [8830, 7770, 6462, 5607, 5904, 4775, 6966, 4572, 15734, 25521, 19047, 12852, 11417, 6087, 4319, 3818, 3123, 4897, 4209, 2978, 10950, 2445, 1821, 5658, 3956, 3123, 3014, 6929, 8619, 4020, 5222, 7503]"
   ]
  },
  {
   "cell_type": "code",
   "execution_count": 5,
   "metadata": {},
   "outputs": [
    {
     "data": {
      "text/plain": [
       "array([26331.60001675])"
      ]
     },
     "execution_count": 5,
     "metadata": {},
     "output_type": "execute_result"
    }
   ],
   "source": [
    "# Gas\n",
    "lin_reg_gas.fit(x_gas.reshape(-1, 1), y_gas)\n",
    "lin_reg_gas.predict(np.array([246]).reshape(-1, 1))\n",
    "# lin_reg_gas.score(x_gas.reshape(-1, 1), y_gas)"
   ]
  },
  {
   "cell_type": "code",
   "execution_count": 7,
   "metadata": {},
   "outputs": [
    {
     "data": {
      "text/plain": [
       "array([1164.82894737])"
      ]
     },
     "execution_count": 7,
     "metadata": {},
     "output_type": "execute_result"
    }
   ],
   "source": [
    "# Water\n",
    "lin_reg_water.fit(x_water.reshape(-1, 1), y_water)\n",
    "lin_reg_water.predict(np.array([2]).reshape(-1, 1))\n",
    "# lin_reg_water.score(x_water.reshape(-1, 1), y_water)"
   ]
  },
  {
   "cell_type": "code",
   "execution_count": 9,
   "metadata": {},
   "outputs": [
    {
     "data": {
      "text/plain": [
       "array([3896.41008299])"
      ]
     },
     "execution_count": 9,
     "metadata": {},
     "output_type": "execute_result"
    }
   ],
   "source": [
    "# Electricity\n",
    "lin_reg_electricity.fit(x_electricity.reshape(-1, 1), y_electricity)\n",
    "lin_reg_electricity.predict(np.array([96]).reshape(-1, 1))\n",
    "# lin_reg_electricity.score(x_electricity.reshape(-1, 1), y_electricity)"
   ]
  },
  {
   "cell_type": "code",
   "execution_count": null,
   "metadata": {},
   "outputs": [],
   "source": []
  }
 ],
 "metadata": {
  "kernelspec": {
   "display_name": "Python 3.10.5 ('utilities-fee-predictor': venv)",
   "language": "python",
   "name": "python3"
  },
  "language_info": {
   "codemirror_mode": {
    "name": "ipython",
    "version": 3
   },
   "file_extension": ".py",
   "mimetype": "text/x-python",
   "name": "python",
   "nbconvert_exporter": "python",
   "pygments_lexer": "ipython3",
   "version": "3.10.9"
  },
  "orig_nbformat": 4,
  "vscode": {
   "interpreter": {
    "hash": "00b1be48a044927c4a77431d4b84cdccbff02187d7a594e13627b38c2e18a2ff"
   }
  }
 },
 "nbformat": 4,
 "nbformat_minor": 2
}
